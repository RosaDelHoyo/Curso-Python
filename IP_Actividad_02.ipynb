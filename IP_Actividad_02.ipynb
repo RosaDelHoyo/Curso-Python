{
 "cells": [
  {
   "cell_type": "markdown",
   "id": "armed-nowhere",
   "metadata": {},
   "source": [
    "<img src=\"img/viu_logo.png\" width=\"200\"><img src=\"img/python_logo.png\" width=\"250\"> *Mario Cervera*"
   ]
  },
  {
   "cell_type": "markdown",
   "id": "medical-heath",
   "metadata": {},
   "source": [
    "# Introducción a la Programación - Actividad Evaluable 2"
   ]
  },
  {
   "cell_type": "markdown",
   "id": "generous-advocate",
   "metadata": {},
   "source": [
    "Ejercicio 1. (2 puntos) \n",
    "\n",
    "Escribe una función que reciba como parámetros dos strings y compruebe si estos strings cumplen las siguientes propiedades: (1) ambos strings tienen los mismos caracteres y, además, (2) estos caracteres aparecen el mismo número de veces en ambos strings (es decir, si el primer string tiene 3 'a', por ejemplo, el segundo string también tendrá 3 'a', aunque éstas pueden aparecer en posiciones diferentes). Para resolver el problema, **no** puedes importar ningún módulo de Python (como, por ejemplo, *collections*) ni usar funciones de ordenación (como *sort*).\n",
    "\n",
    "   * Ejemplos para los que la función devolverá *False*:\n",
    "       * 'hola' y 'adios'.\n",
    "       * 'java' y 'javascript'.\n",
    "       * 'maria' y 'mariam'.\n",
    "       * 'aab' y 'abb'.\n",
    "\n",
    "\n",
    "   * Ejemplos para los que la función devolverá *True*:\n",
    "       * 'python' y 'python'\n",
    "       * 'listen' y 'silent'\n",
    "       * 'aabbcc' y 'abcabc'"
   ]
  },
  {
   "cell_type": "code",
   "execution_count": 72,
   "id": "94517447",
   "metadata": {},
   "outputs": [
    {
     "name": "stdout",
     "output_type": "stream",
     "text": [
      "True\n"
     ]
    }
   ],
   "source": [
    "# Ejercicio 1\n",
    "\n",
    "def comprobar(elemento1, elemento2):\n",
    "    frecuencia1 = {}\n",
    "    frecuencia2 = {}\n",
    "\n",
    "    for valor1 in elemento1:\n",
    "        if valor1 in frecuencia1:\n",
    "            frecuencia1[valor1] +=1\n",
    "        else:\n",
    "            frecuencia1[valor1] = 1\n",
    "\n",
    "    for valor2 in elemento2:\n",
    "        if valor2 in frecuencia2:\n",
    "            frecuencia2[valor2] +=1\n",
    "        else:\n",
    "            frecuencia2[valor2] = 1\n",
    "\n",
    "    if frecuencia1 == frecuencia2:\n",
    "        return True\n",
    "    else:\n",
    "        return False\n",
    "\n",
    "    \n",
    "elemento1 = 'listen'\n",
    "elemento2 = 'silent'\n",
    "print(comprobar(elemento1,elemento2))"
   ]
  },
  {
   "cell_type": "markdown",
   "id": "ready-neighbor",
   "metadata": {},
   "source": [
    "Ejercicio 2. (2 puntos) \n",
    "\n",
    "En \"*./res/ciudades.csv*\" tenéis un fichero CSV con información acerca de un conjunto de ciudades: nombre de la ciudad, país al que pertenece y número de habitantes. Escribir un programa que acceda al fichero y obtenga:\n",
    "\n",
    "* Una lista con los nombres de las ciudades españolas que tienen más de 300.000 habitantes.\n",
    "* El número total de ciudades francesas.\n",
    "\n",
    "El programa debe mostrar la lista y el número por pantalla."
   ]
  },
  {
   "cell_type": "code",
   "execution_count": 5,
   "id": "bbb1ea95",
   "metadata": {
    "scrolled": true
   },
   "outputs": [
    {
     "name": "stdout",
     "output_type": "stream",
     "text": [
      "Número de ciudades Francesas = 3\n",
      "Ciudades Españolas con más de 300000 habitantes = ['Valencia', 'Bilbao', 'Madrid', 'Sevilla', 'Barcelona']\n"
     ]
    }
   ],
   "source": [
    "# Ejercicio 2\n",
    "\n",
    "ruta = open('./res/ciudades.csv', 'r')\n",
    "ciudades_francesas = 0\n",
    "ciudades_españolas = []\n",
    "\n",
    "for linea in ruta:\n",
    "    ciudad = linea.split(\"|\")[0]\n",
    "    pais = linea.split(\"|\")[1]\n",
    "    habitantes = linea.split(\"|\")[2]\n",
    "    if pais == 'Francia':\n",
    "        ciudades_francesas += 1\n",
    "    if pais == 'Espanya' and int(habitantes) >= 300000:\n",
    "        ciudades_españolas.append(ciudad)\n",
    "\n",
    "\n",
    "print('Número de ciudades Francesas =', ciudades_francesas)\n",
    "print('Ciudades Españolas con más de 300000 habitantes =', ciudades_españolas)"
   ]
  },
  {
   "cell_type": "markdown",
   "id": "contrary-portable",
   "metadata": {},
   "source": [
    "Ejercicio 3. (1 punto) \n",
    "\n",
    "Escribe una *list comprehension* que obtenga una lista que contenga todos los números impares del 1 al 30 (ambos inclusive). Aquellos que sean múltiplos de 5, serán marcados con una 'x'. Es decir, el resultado debe ser: [1, 3, '5x', 7, 9, 11, 13, '15x', 17, 19, 21, 23, '25x', 27, 29]"
   ]
  },
  {
   "cell_type": "code",
   "execution_count": 7,
   "id": "91221096",
   "metadata": {},
   "outputs": [
    {
     "data": {
      "text/plain": [
       "[1, 3, '5x', 7, 9, 11, 13, '15x', 17, 19, 21, 23, '25x', 27, 29]"
      ]
     },
     "execution_count": 7,
     "metadata": {},
     "output_type": "execute_result"
    }
   ],
   "source": [
    "# Ejercicio 3\n",
    "\n",
    "[str(x) + 'x' if x %5 == 0 else x for x in range(31) if x %2 != 0]"
   ]
  },
  {
   "cell_type": "markdown",
   "id": "answering-laser",
   "metadata": {},
   "source": [
    "Ejercicio 4. (2.5 puntos) \n",
    "\n",
    "Utiliza una *list comprehension* para generar una lista que contenga los números mayores que 10 que aparecen en esta frase: \"El día 23 de febrero cumpliré 17 años. Mi hermano, sólo 2 días después, cumplirá 20\". La list comprehension debe procesar el string para obtener los números. Si lo consideras necesario, puedes implementar funciones auxiliares que sean invocadas desde la list comprehension."
   ]
  },
  {
   "cell_type": "code",
   "execution_count": 67,
   "id": "e6a11b4c",
   "metadata": {},
   "outputs": [
    {
     "data": {
      "text/plain": [
       "[23, 17, 20]"
      ]
     },
     "execution_count": 67,
     "metadata": {},
     "output_type": "execute_result"
    }
   ],
   "source": [
    "# Ejercicio 4 salida int\n",
    "\n",
    "cadena = 'El día 23 de febrero cumpliré 17 años. Mi hermano, sólo 2 días después, cumplirá 20'\n",
    "\n",
    "[int(num) for num in cadena.split() if num.isdigit() == True if int(num) > 10]"
   ]
  },
  {
   "cell_type": "code",
   "execution_count": 66,
   "id": "ba4d5f68-8495-401a-a8b7-8dd71b0f2e7d",
   "metadata": {},
   "outputs": [
    {
     "data": {
      "text/plain": [
       "['23', '17', '20']"
      ]
     },
     "execution_count": 66,
     "metadata": {},
     "output_type": "execute_result"
    }
   ],
   "source": [
    "# Ejercicio 4 salida srt\n",
    "\n",
    "cadena = 'El día 23 de febrero cumpliré 17 años. Mi hermano, sólo 2 días después, cumplirá 20'\n",
    "\n",
    "[num for num in cadena.split() if num.isdigit() == True if int(num) > 10]"
   ]
  },
  {
   "cell_type": "markdown",
   "id": "trained-necklace",
   "metadata": {},
   "source": [
    "Ejercicio 5. (2.5 puntos) \n",
    "\n",
    "Escribe una función que, dada una cadena de caracteres que puede incluir paréntesis '()' o corchetes '[]' compruebe si los paréntesis y corchetes aparecen de manera correcta, es decir, están balanceados. Ejemplo: tanto en '(aa(c))bb[a]' como en '[[b]]a(a)' los paréntesis y corchetes están balanceados; por lo tanto, la función devolverá *True*. En 'dd((abc[a)]' o en '[(]]' no lo están; por lo tanto, la función devolverá *False*. Pista: la estructura de datos *Pila* puede ser de gran ayuda."
   ]
  },
  {
   "cell_type": "code",
   "execution_count": 35,
   "id": "7a1367d4",
   "metadata": {},
   "outputs": [
    {
     "name": "stdout",
     "output_type": "stream",
     "text": [
      "True\n",
      "True\n",
      "False\n",
      "False\n"
     ]
    }
   ],
   "source": [
    "# Ejercicio 5\n",
    "\n",
    "def verificarParentesis(cadena):\n",
    "    comprobar = []\n",
    "\n",
    "    for elemento in cadena:\n",
    "        if elemento in ['[', '(']:\n",
    "            comprobar.insert(0, elemento)\n",
    "        if elemento in [']', ')']:\n",
    "            if len(comprobar) == 0:\n",
    "                return False\n",
    "            elif (elemento == ']' and comprobar[0] == '[') or (elemento == ')' and comprobar[0] == '(' ):\n",
    "                comprobar.remove(comprobar[0])\n",
    "            else:\n",
    "                return False\n",
    "\n",
    "    if len(comprobar) != 0:\n",
    "        return False\n",
    "    else:\n",
    "        return True\n",
    "\n",
    "\n",
    "print(verificarParentesis('(aa(c))bb[a]'))\n",
    "print(verificarParentesis('[[b]]a(a)'))\n",
    "print(verificarParentesis('dd((abc[a)]'))\n",
    "print(verificarParentesis('[(]]'))"
   ]
  },
  {
   "cell_type": "code",
   "execution_count": 4,
   "id": "e11b5c7b",
   "metadata": {},
   "outputs": [
    {
     "name": "stdout",
     "output_type": "stream",
     "text": [
      "True\n",
      "True\n",
      "False\n",
      "False\n"
     ]
    }
   ],
   "source": [
    "# Ejercicio 5 pila\n",
    "\n",
    "apertura = ['[', '(']\n",
    "cierre = [']', ')']\n",
    "\n",
    "def verificarParentesis1(cadena1):\n",
    "    pila = []\n",
    "\n",
    "    for elemento1 in cadena1:\n",
    "        if elemento1 in apertura:\n",
    "            pila.append(elemento1)\n",
    "        if elemento1 in cierre:\n",
    "            comprobar1 = cierre.index(elemento1)\n",
    "            if len(pila) > 0 and apertura[comprobar1] == pila[len(pila)-1]:\n",
    "                pila.pop()\n",
    "            else:\n",
    "                return False\n",
    "\n",
    "    if len(pila) == 0:\n",
    "        return True\n",
    "    else:\n",
    "        return False\n",
    "\n",
    "\n",
    "print(verificarParentesis1('(aa(c))bb[a]'))\n",
    "print(verificarParentesis1('[[b]]a(a)'))\n",
    "print(verificarParentesis1('dd((abc[a)]'))\n",
    "print(verificarParentesis1('[(]]'))"
   ]
  }
 ],
 "metadata": {
  "kernelspec": {
   "display_name": "Python 3 (ipykernel)",
   "language": "python",
   "name": "python3"
  },
  "language_info": {
   "codemirror_mode": {
    "name": "ipython",
    "version": 3
   },
   "file_extension": ".py",
   "mimetype": "text/x-python",
   "name": "python",
   "nbconvert_exporter": "python",
   "pygments_lexer": "ipython3",
   "version": "3.8.8"
  }
 },
 "nbformat": 4,
 "nbformat_minor": 5
}
