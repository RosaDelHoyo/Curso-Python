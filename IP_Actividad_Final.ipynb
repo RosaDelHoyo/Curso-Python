{
 "cells": [
  {
   "cell_type": "markdown",
   "id": "final-comparison",
   "metadata": {},
   "source": [
    "<img src=\"img/viu_logo.png\" width=\"200\"><img src=\"img/python_logo.png\" width=\"250\"> *Mario Cervera*"
   ]
  },
  {
   "cell_type": "markdown",
   "id": "differential-valley",
   "metadata": {
    "tags": []
   },
   "source": [
    "# Introducción a la Programación - Actividad Final"
   ]
  },
  {
   "cell_type": "markdown",
   "id": "handled-spanking",
   "metadata": {
    "tags": []
   },
   "source": [
    "El fichero *grafo.txt* define un grafo dirigido ponderado. Cada fila del fichero contiene tres items separados entre sí por un espacio. Estos tres items definen una arista y su peso. Por ejemplo, la fila \"a b 2\" define una arista *(a, b)*, cuyo peso es 2, y donde *a* y *b* son nodos del grafo. La arista tiene *a* como origen y *b* como destino."
   ]
  },
  {
   "cell_type": "markdown",
   "id": "sufficient-female",
   "metadata": {},
   "source": [
    "1.1. Crea una clase *Arista* que represente una arista del grafo, con su nodo origen, su nodo destino y su peso. La clase debe sobreescribir el operador que permite que las instancias de la clase puedan representarse apropiadamente en formato *string*. Añade documentación a la clase."
   ]
  },
  {
   "cell_type": "code",
   "execution_count": 1,
   "id": "1d7184bc-9a2b-46f2-af1d-366e7ac296b2",
   "metadata": {},
   "outputs": [],
   "source": [
    "class Arista:\n",
    "    '''\n",
    "    Esta clase representa un grafo que contiene las instancias: nodoorigen, nododestino y peso.\n",
    "    La clase también sobreescribe el operador que permite mostrar las instancias de la clase en formato string.\n",
    "    '''\n",
    "    def __init__(self, nodoorigen, nododestino, peso):\n",
    "        self.nodoorigen = nodoorigen\n",
    "        self.nododestino = nododestino\n",
    "        self.peso = int(peso)\n",
    "\n",
    "\n",
    "    def __str__(self):\n",
    "        return f'El nodo origen es {self.nodoorigen}, el nododestino es {self.nododestino} y el peso {self.peso}'"
   ]
  },
  {
   "cell_type": "markdown",
   "id": "clear-infection",
   "metadata": {},
   "source": [
    "1.2. Crea una clase abstracta *Grafo* que represente un grafo, pero sin proporcionar detalles sobre su representación en memoria. Esta clase abstracta contendrá un constructor que recibirá un parámetro: la ruta a un fichero de texto, de donde la clase *Grafo* podrá extraer la definición del grafo. La clase, al ser abstracta, no puede crear el grafo, pero sí puede procesar el fichero y usar un método abstracto *anyadir_arista*. Añadir también a la clase *Grafo* otro método abstracto *contiene_arista* que permita comprobar la presencia de una arista en el grafo. Ambos métodos recibirán una *Arista* como parámetro. Añade documentación a la clase."
   ]
  },
  {
   "cell_type": "code",
   "execution_count": 2,
   "id": "0e3d2d56-c3ae-4108-920a-06aa920c72e5",
   "metadata": {},
   "outputs": [],
   "source": [
    "from abc import ABC, abstractmethod\n",
    "\n",
    "class Grafo(ABC):\n",
    "    '''\n",
    "    Esta clase abstracta contiene un constructor, encargado de procesar el fichero con los detalles del grafo,\n",
    "    dos métodos abstractos anyadirarista y otro método contienearista.\n",
    "    '''\n",
    "    def __init__(self, parametro):\n",
    "        self.parametro = parametro\n",
    "        with open(self.parametro, 'r') as file:\n",
    "            for linea in file:\n",
    "                dato = linea.split()\n",
    "                arint = (Arista(dato[0], dato[1], dato[2]))\n",
    "                self.anyadirarista(arint)\n",
    "\n",
    "\n",
    "    @abstractmethod\n",
    "    def anyadirarista(self, Arista):\n",
    "        pass\n",
    "\n",
    "    @abstractmethod\n",
    "    def contienearista(self, Arista):\n",
    "        pass"
   ]
  },
  {
   "cell_type": "markdown",
   "id": "native-width",
   "metadata": {
    "tags": []
   },
   "source": [
    "1.3. Crea una subclase *GrafoListasAdyacencia*. Esta clase implementará el método *anyadir_arista* de manera que se creen las listas de adyacencia de manera apropiada. La clase deberá también implementar el método *contiene_arista*. Añade documentación a la clase.\n",
    "\n",
    "Nota: observad que en las listas de adyacencia no debéis almacenar objetos de tipo *Arista*, ya que esto crearía duplicación innecesaria de información en memoria."
   ]
  },
  {
   "cell_type": "code",
   "execution_count": 3,
   "id": "6fac44f2-b60e-4e91-88a1-0597eeca91bc",
   "metadata": {},
   "outputs": [],
   "source": [
    "class grafolistasadyacencia(Grafo):\n",
    "    '''\n",
    "    Esta subclase implementa los métodos de la clase abstracta grafo para crear un grafo basado en listas de adyacencia y comprobar si una arista se encuentra en él.\n",
    "    '''\n",
    "    def __init__(self, parametro):\n",
    "        self.listasadyacencia = {}\n",
    "        super().__init__(parametro)\n",
    "        \n",
    "\n",
    "    def anyadirarista(self, Arista):\n",
    "        if Arista.nodoorigen not in self.listasadyacencia:\n",
    "            self.listasadyacencia[Arista.nodoorigen] = [(Arista.nododestino, Arista.peso)]\n",
    "        else:\n",
    "            self.listasadyacencia[Arista.nodoorigen].append((Arista.nododestino, Arista.peso))\n",
    "\n",
    "    def contienearista(self, Arista):\n",
    "        for a in self.listasadyacencia[Arista.nodoorigen]:\n",
    "            nododestino, peso = a\n",
    "            if Arista.nododestino == nododestino and Arista.peso == peso:\n",
    "                return True\n",
    "        else:\n",
    "            return False"
   ]
  },
  {
   "cell_type": "markdown",
   "id": "arabic-casino",
   "metadata": {},
   "source": [
    "1.4. Crea una subclase *GrafoMatrizAdyacencia*. Esta clase implementará el método *anyadir_arista* de manera que se cree la matriz de adyacencia de manera apropiada. Una matriz de adyacencia es una matriz cuadrada que indica, para cada par de nodos, si son adyacentes o no. Más formalmente, dado un grafo con nodos *U = { u<sub>1</sub>, u<sub>2</sub>, ..., u<sub>n</sub> }*, la matriz de adyacencia es una matriz *n x n* donde un elemento *A<sub>ij</sub>* de la matriz es *X* cuando el grafo posee una arista del nodo *u<sub>i</sub>* al nodo *u<sub>j</sub>* con peso *X*, y 0 cuando no existe tal arista o tiene peso 0.\n",
    "\n",
    "Nota: para este ejercicio, podéis asumir que se sabe de antemano (es decir, antes de procesar el fichero) que el grafo tiene 7 nodos: 'a', 'b', 'c', 'd', 'e', 'f' y 'g'."
   ]
  },
  {
   "cell_type": "code",
   "execution_count": 4,
   "id": "209ad489-2e21-44ca-b87a-cc92e09489d8",
   "metadata": {
    "tags": []
   },
   "outputs": [],
   "source": [
    "class grafomatrizadyacencia(Grafo):\n",
    "    '''\n",
    "    Esta subclase implementa los métodos de la clase abstracta grafo para crear un grafo basado en una matriz de adyacencia y comprobar si una arista se encuentra en él.\n",
    "    '''\n",
    "    def __init__(self,parametro):\n",
    "        self.matrizadyacencia = []\n",
    "        for filas in range(7):\n",
    "            self.matrizadyacencia.append([])\n",
    "            for columnas in range(7):\n",
    "                self.matrizadyacencia[filas].append(0)\n",
    "        super().__init__(parametro)\n",
    "\n",
    "\n",
    "    def anyadirarista(self, Arista):\n",
    "        matriz = {'a': 0, 'b': 1, 'c': 2, 'd': 3, 'e': 4, 'f': 5, 'g': 6} \n",
    "        org = matriz[Arista.nodoorigen]\n",
    "        dest = matriz[Arista.nododestino]\n",
    "        self.matrizadyacencia[org][dest] = Arista.peso\n",
    "\n",
    "    def contienearista(self, Arista):\n",
    "        matriz = {'a': 0, 'b': 1, 'c': 2, 'd': 3, 'e': 4, 'f': 5, 'g': 6}\n",
    "        org = matriz[Arista.nodoorigen]\n",
    "        dest = matriz[Arista.nododestino]\n",
    "        if self.matrizadyacencia[org][dest] == Arista.peso:\n",
    "            return True\n",
    "        else:\n",
    "            return False"
   ]
  },
  {
   "cell_type": "markdown",
   "id": "strange-blink",
   "metadata": {},
   "source": [
    "1.5. Crea una función que, dado un grafo y una arista, compruebe si la arista existe en el grafo y muestre un mensaje apropiado por pantalla en cualquier caso. Utiliza esta función para comprobar la existencia/ausencia de varias aristas en una instancia de un grafo basado en listas de adyacencia y también en un grafo basado en matriz de adyacencia. El resultado debería ser el mismo en ambos casos, ya que la existencia o ausencia de una arista en un grafo no depende de cómo el grafo está representado internamente."
   ]
  },
  {
   "cell_type": "code",
   "execution_count": 10,
   "id": "1f2057af-17da-45a7-9b2d-ee7bb9f2093b",
   "metadata": {},
   "outputs": [
    {
     "name": "stdout",
     "output_type": "stream",
     "text": [
      "El nodo origen es a, el nododestino es b y el peso 1 se encuentra en el grafo {'a': [('b', 1), ('c', 3)], 'b': [('e', 3)], 'c': [('a', 2), ('d', 1)], 'd': [('a', 1), ('e', 2), ('f', 1)], 'e': [('c', 3), ('f', 4)], 'f': [('g', 1)], 'g': [('b', 2)]}.\n",
      "El nodo origen es a, el nododestino es b y el peso 1 se encuentra en el grafo [[0, 1, 3, 0, 0, 0, 0], [0, 0, 0, 0, 3, 0, 0], [2, 0, 0, 1, 0, 0, 0], [1, 0, 0, 0, 2, 1, 0], [0, 0, 3, 0, 0, 4, 0], [0, 0, 0, 0, 0, 0, 1], [0, 2, 0, 0, 0, 0, 0]].\n",
      "El nodo origen es e, el nododestino es b y el peso 1 no se encuentra en el grafo {'a': [('b', 1), ('c', 3)], 'b': [('e', 3)], 'c': [('a', 2), ('d', 1)], 'd': [('a', 1), ('e', 2), ('f', 1)], 'e': [('c', 3), ('f', 4)], 'f': [('g', 1)], 'g': [('b', 2)]}.\n",
      "El nodo origen es e, el nododestino es b y el peso 1 no se encuentra en el grafo [[0, 1, 3, 0, 0, 0, 0], [0, 0, 0, 0, 3, 0, 0], [2, 0, 0, 1, 0, 0, 0], [1, 0, 0, 0, 2, 1, 0], [0, 0, 3, 0, 0, 4, 0], [0, 0, 0, 0, 0, 0, 1], [0, 2, 0, 0, 0, 0, 0]].\n",
      "El nodo origen es b, el nododestino es e y el peso 3 se encuentra en el grafo {'a': [('b', 1), ('c', 3)], 'b': [('e', 3)], 'c': [('a', 2), ('d', 1)], 'd': [('a', 1), ('e', 2), ('f', 1)], 'e': [('c', 3), ('f', 4)], 'f': [('g', 1)], 'g': [('b', 2)]}.\n",
      "El nodo origen es b, el nododestino es e y el peso 3 se encuentra en el grafo [[0, 1, 3, 0, 0, 0, 0], [0, 0, 0, 0, 3, 0, 0], [2, 0, 0, 1, 0, 0, 0], [1, 0, 0, 0, 2, 1, 0], [0, 0, 3, 0, 0, 4, 0], [0, 0, 0, 0, 0, 0, 1], [0, 2, 0, 0, 0, 0, 0]].\n",
      "El nodo origen es g, el nododestino es b y el peso 3 no se encuentra en el grafo {'a': [('b', 1), ('c', 3)], 'b': [('e', 3)], 'c': [('a', 2), ('d', 1)], 'd': [('a', 1), ('e', 2), ('f', 1)], 'e': [('c', 3), ('f', 4)], 'f': [('g', 1)], 'g': [('b', 2)]}.\n",
      "El nodo origen es g, el nododestino es b y el peso 3 no se encuentra en el grafo [[0, 1, 3, 0, 0, 0, 0], [0, 0, 0, 0, 3, 0, 0], [2, 0, 0, 1, 0, 0, 0], [1, 0, 0, 0, 2, 1, 0], [0, 0, 3, 0, 0, 4, 0], [0, 0, 0, 0, 0, 0, 1], [0, 2, 0, 0, 0, 0, 0]].\n"
     ]
    }
   ],
   "source": [
    "def comprobacion(Grafo, Arista):\n",
    "    if grafomatriz.contienearista(Arista) or grafolista.contienearista(Arista):\n",
    "        print(f'{Arista} se encuentra en el grafo {Grafo}.')\n",
    "    else:\n",
    "        print(f'{Arista} no se encuentra en el grafo {Grafo}.')\n",
    "\n",
    "\n",
    "aristaslista = [('a','b',1), ('e','b',1), ('b','e',3), ('g','b',3)]\n",
    "\n",
    "grafolista = grafolistasadyacencia('res/grafo.txt')\n",
    "grafomatriz = grafomatrizadyacencia('res/grafo.txt')\n",
    "for a in aristaslista:\n",
    "    nodoorigen, nododestino, peso = a\n",
    "    comprobacion(grafolista.listasadyacencia,Arista(nodoorigen, nododestino, peso))\n",
    "    comprobacion(grafomatriz.matrizadyacencia,Arista(nodoorigen, nododestino, peso))"
   ]
  }
 ],
 "metadata": {
  "kernelspec": {
   "display_name": "Python 3 (ipykernel)",
   "language": "python",
   "name": "python3"
  },
  "language_info": {
   "codemirror_mode": {
    "name": "ipython",
    "version": 3
   },
   "file_extension": ".py",
   "mimetype": "text/x-python",
   "name": "python",
   "nbconvert_exporter": "python",
   "pygments_lexer": "ipython3",
   "version": "3.10.0"
  }
 },
 "nbformat": 4,
 "nbformat_minor": 5
}
