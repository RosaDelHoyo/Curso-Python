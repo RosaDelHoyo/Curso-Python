{
 "cells": [
  {
   "cell_type": "markdown",
   "id": "revised-commissioner",
   "metadata": {},
   "source": [
    "<img src=\"img/viu_logo.png\" width=\"200\"><img src=\"img/python_logo.png\" width=\"250\"> *Mario Cervera*"
   ]
  },
  {
   "cell_type": "markdown",
   "id": "illegal-bleeding",
   "metadata": {},
   "source": [
    "# Introducción a la Programación - Actividad Evaluable 1"
   ]
  },
  {
   "cell_type": "markdown",
   "id": "popular-compatibility",
   "metadata": {},
   "source": [
    "Ejercicio 1. (1 punto) \n",
    "\n",
    "Definir un conjunto que contenga todos los caracteres del alfabeto. Mostrar por pantalla el subconjunto que resulta de eliminar los caracteres de vuestro nombre en dicho conjunto inicial. No podéis usar sentencias condicionales ni bucles para resolver este problema."
   ]
  },
  {
   "cell_type": "code",
   "execution_count": 1,
   "id": "7697b0bb-e2f9-4759-87b6-0554d40ceb4d",
   "metadata": {},
   "outputs": [
    {
     "name": "stdout",
     "output_type": "stream",
     "text": [
      "Alfabeto = ['a', 'b', 'c', 'd', 'e', 'f', 'g', 'h', 'i', 'j', 'k', 'l', 'm', 'n', 'o', 'p', 'q', 'r', 's', 't', 'u', 'v', 'w', 'x', 'y', 'z']\n",
      "Alfabeto sin mi nombre = ['b', 'c', 'd', 'e', 'f', 'g', 'h', 'i', 'j', 'k', 'l', 'm', 'n', 'p', 'q', 't', 'u', 'v', 'w', 'x', 'y', 'z']\n"
     ]
    }
   ],
   "source": [
    "#1\n",
    "\n",
    "alfabeto=(list(map(chr,range(97, 123))))\n",
    "print(\"Alfabeto =\", alfabeto)\n",
    "\n",
    "alfabeto.remove (\"r\")\n",
    "alfabeto.remove (\"o\")\n",
    "alfabeto.remove (\"s\")\n",
    "alfabeto.remove (\"a\")\n",
    "\n",
    "print(\"Alfabeto sin mi nombre =\", alfabeto)"
   ]
  },
  {
   "cell_type": "markdown",
   "id": "demographic-creek",
   "metadata": {},
   "source": [
    "Ejercicio 2. (1 punto) \n",
    "\n",
    "Sin usar expresiones literales, ni sentencias condicionales, ni bucles: (1) Crear una lista ordenada que contenga los números del 1 al 20 (ambos inclusive). Posteriormente, (2) usando la lista creada en el apartado (1), mostrar por pantalla otra lista que contenga sólo los números múltiplos de 5, es decir: [5, 10, 15, 20]."
   ]
  },
  {
   "cell_type": "code",
   "execution_count": 2,
   "id": "63c568e1-bf3c-46d4-8a0e-0a2f4d1367d1",
   "metadata": {},
   "outputs": [
    {
     "name": "stdout",
     "output_type": "stream",
     "text": [
      "Lista del 1 al 20 = [1, 2, 3, 4, 5, 6, 7, 8, 9, 10, 11, 12, 13, 14, 15, 16, 17, 18, 19, 20]\n",
      "Multiplos de 5 = [5, 10, 15, 20]\n"
     ]
    }
   ],
   "source": [
    "#2\n",
    "\n",
    "#APARTADO 1\n",
    "lista = list(range(1,21))\n",
    "print(\"Lista del 1 al 20 =\",lista)\n",
    "\n",
    "#APARTADO 2\n",
    "multiplos = lista[4::5]\n",
    "print(\"Multiplos de 5 =\", multiplos)"
   ]
  },
  {
   "cell_type": "markdown",
   "id": "understood-canberra",
   "metadata": {},
   "source": [
    "Ejercicio 3. (2 puntos) \n",
    "\n",
    "Escribir un programa que compare dos diccionarios y muestre *True* si tienen algún elemento en común y *False* en caso contrario. Tener un elemento en común significa que existe un elemento (clave-valor) que está presente en ambos diccionarios. Por ejemplo, el programa mostrará *True* para los diccionarios a = {'a': 3, 'b': 4} y b = {'c': 1, 'a': 3} dado que ambos incluyen el elemento 'a': 3."
   ]
  },
  {
   "cell_type": "code",
   "execution_count": 3,
   "id": "7ef82018-9149-444f-9659-f5ae82269018",
   "metadata": {},
   "outputs": [
    {
     "name": "stdout",
     "output_type": "stream",
     "text": [
      "True\n"
     ]
    }
   ],
   "source": [
    "#3\n",
    "\n",
    "diccionario1 = {'a': 3, 'b': 4}\n",
    "diccionario2 = {'c': 1, 'a': 3}\n",
    "\n",
    "for dicc1 in diccionario1.items():\n",
    "    for dicc2 in diccionario2.items():\n",
    "        if dicc1 == dicc2:\n",
    "            print(True)\n",
    "            break\n",
    "    else:\n",
    "        continue\n",
    "    break\n",
    "else:\n",
    "    print(False)"
   ]
  },
  {
   "cell_type": "markdown",
   "id": "green-conflict",
   "metadata": {},
   "source": [
    "Ejercicio 4. (3 puntos) \n",
    "\n",
    "Crear una función que reciba como parámetro una lista con objetos de diferentes tipos. Por simplificar, para este problema se consideran únicamente números *enteros*, números *decimales* y *strings*. La función debe devolver la suma de los números (enteros y decimales) e ignorar los strings. Ejemplo: el resultado para la lista ['b', 'c', 1, 3.4, 'a', 2] sería 6.4."
   ]
  },
  {
   "cell_type": "code",
   "execution_count": 4,
   "id": "e3b4d78d-c51b-4c30-a573-afed42a5c533",
   "metadata": {},
   "outputs": [
    {
     "name": "stdout",
     "output_type": "stream",
     "text": [
      "6.4\n"
     ]
    }
   ],
   "source": [
    "#4 EJEMPLO\n",
    "\n",
    "def sumar_lista(listaobjetos):\n",
    "    suma = 0\n",
    "    for numero in listaobjetos:\n",
    "        if type(numero) is int or type(numero) is float:\n",
    "            suma += numero                   \n",
    "    return suma\n",
    "    \n",
    "listatipos = ['b', 'c', 1, 3.4, 'a', 2]\n",
    "print(sumar_lista(listatipos))"
   ]
  },
  {
   "cell_type": "code",
   "execution_count": 5,
   "id": "a29cb39d-ea4d-4980-a37f-02a348c24d4c",
   "metadata": {},
   "outputs": [
    {
     "name": "stdout",
     "output_type": "stream",
     "text": [
      "6.4\n"
     ]
    }
   ],
   "source": [
    "#4 EJEMPLO2 - No se cual sería más correcto\n",
    "\n",
    "def sumar_lista1(listaobjetos1):\n",
    "    suma1 = 0\n",
    "    for numero1 in listaobjetos1:\n",
    "        if type(numero1) == int or type(numero1) == float:\n",
    "            suma1 += numero1                     \n",
    "    return suma1\n",
    "    \n",
    "listatipos1 = ['b', 'c', 1, 3.4, 'a', 2]\n",
    "print(sumar_lista1(listatipos1))"
   ]
  },
  {
   "cell_type": "markdown",
   "id": "informal-cyprus",
   "metadata": {},
   "source": [
    "Ejercicio 5. (3 puntos) \n",
    "\n",
    "Crear una función que calcule si un año dado es bisiesto o no. La función debe devolver un valor booleano. Un año es bisiesto si es divisible entre 4, excepto aquellos divisibles entre 100 pero no entre 400. Ejemplos:\n",
    "\n",
    "   * 1904: SI es bisiesto dado que es divisible entre 4. No se debe considerar nada más porque no es divisible entre 100.\n",
    "   * 2000: SI es bisiesto. Este año es divisible entre 4 y 100, pero también es divisible entre 400.\n",
    "   * 1900: NO es bisiesto. Este año es divisible entre 4 y 100, pero no es divisible entre 400.   \n",
    "   \n",
    "El programa debe usar la función implementada para construir una *lista* con todos los años bisiestos desde 1900 (inclusive) hasta la actualidad. El programa debe mostrar esta lista por pantalla."
   ]
  },
  {
   "cell_type": "code",
   "execution_count": 8,
   "id": "105b237d-ffbe-480c-9617-e0c9ee1103a6",
   "metadata": {},
   "outputs": [
    {
     "name": "stdout",
     "output_type": "stream",
     "text": [
      "[1904, 1908, 1912, 1916, 1920, 1924, 1928, 1932, 1936, 1940, 1944, 1948, 1952, 1956, 1960, 1964, 1968, 1972, 1976, 1980, 1984, 1988, 1992, 1996, 2000, 2004, 2008, 2012, 2016, 2020]\n",
      "<class 'list'>\n"
     ]
    }
   ],
   "source": [
    "#5\n",
    "\n",
    "from datetime import datetime\n",
    "\n",
    "def bisiesto(fecha):\n",
    "    if not fecha % 4 and (fecha % 100 or not fecha % 400):\n",
    "        return True\n",
    "    else:\n",
    "        return False     \n",
    "\n",
    "añoinicio = 1900\n",
    "comprobar = []\n",
    "resultado = []\n",
    "for año in range(añoinicio, datetime.today().year+1):\n",
    "    comprobar = bisiesto(año)\n",
    "    if comprobar == True:\n",
    "        resultado.append(año)\n",
    "        \n",
    "print(resultado)\n",
    "print(type(resultado))"
   ]
  },
  {
   "cell_type": "code",
   "execution_count": null,
   "id": "b3a88e2b-40e3-411e-aab8-44e5fb029c65",
   "metadata": {},
   "outputs": [],
   "source": []
  }
 ],
 "metadata": {
  "kernelspec": {
   "display_name": "Python 3 (ipykernel)",
   "language": "python",
   "name": "python3"
  },
  "language_info": {
   "codemirror_mode": {
    "name": "ipython",
    "version": 3
   },
   "file_extension": ".py",
   "mimetype": "text/x-python",
   "name": "python",
   "nbconvert_exporter": "python",
   "pygments_lexer": "ipython3",
   "version": "3.10.0"
  }
 },
 "nbformat": 4,
 "nbformat_minor": 5
}
